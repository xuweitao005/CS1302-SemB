{
 "cells": [
  {
   "cell_type": "markdown",
   "metadata": {
    "slideshow": {
     "slide_type": "slide"
    }
   },
   "source": [
    "# Introduction to Computer Programming"
   ]
  },
  {
   "cell_type": "markdown",
   "metadata": {
    "slideshow": {
     "slide_type": "-"
    },
    "tags": [
     "remove-cell"
    ]
   },
   "source": [
    "**CS1302 Introduction to Computer Programming**\n",
    "___\n",
    "- What is computer\n",
    "- What is programming\n",
    "- Python programming language"
   ]
  },
  {
   "cell_type": "markdown",
   "metadata": {
    "slideshow": {
     "slide_type": "slide"
    }
   },
   "source": [
    "## Computer"
   ]
  },
  {
   "cell_type": "markdown",
   "metadata": {
    "slideshow": {
     "slide_type": "subslide"
    }
   },
   "source": [
    "### What is a computer?"
   ]
  },
  {
   "cell_type": "markdown",
   "metadata": {
    "slideshow": {
     "slide_type": "subslide"
    }
   },
   "source": [
    "Is computer a calculator that is bigger and more advanced?"
   ]
  },
  {
   "cell_type": "markdown",
   "metadata": {
    "slideshow": {
     "slide_type": "-"
    }
   },
   "source": [
    "<center><figure>\n",
    "<a title=\"Ccha23 / CC BY-SA (https://creativecommons.org/licenses/by-sa/4.0)\" href=\"https://commons.wikimedia.org/wiki/File:Calculator_app.png\"><img width=\"400\" alt=\"Calculator app\" src=\"https://upload.wikimedia.org/wikipedia/commons/thumb/4/48/Calculator_app.png/512px-Calculator_app.png\"></a>\n",
    "  <figcaption>A calculator on a computer.</figcaption>\n",
    "</figure>\n",
    "</center>"
   ]
  },
  {
   "cell_type": "markdown",
   "metadata": {
    "slideshow": {
     "slide_type": "subslide"
    }
   },
   "source": [
    "If computer is a calculator, then, is [abacus](https://en.wikipedia.org/wiki/Abacus) the first computer invented?  "
   ]
  },
  {
   "cell_type": "markdown",
   "metadata": {
    "slideshow": {
     "slide_type": "-"
    }
   },
   "source": [
    "<center><figure>\n",
    "<a title=\"Encyclopædia Britannica / Public domain\" href=\"https://commons.wikimedia.org/wiki/File:Abacus_6.png\"><img width=\"400\" alt=\"Abacus 6\" src=\"https://upload.wikimedia.org/wikipedia/commons/a/af/Abacus_6.png\"></a>\n",
    "  <figcaption>Abacus - an ancient mechanical computing device.</figcaption>\n",
    "</figure>\n",
    "</center>"
   ]
  },
  {
   "cell_type": "markdown",
   "metadata": {
    "slideshow": {
     "slide_type": "fragment"
    }
   },
   "source": [
    "Is your [smartphone](https://en.wikipedia.org/wiki/Samsung_DeX) a computer?  \n",
    "What defines a computer?"
   ]
  },
  {
   "cell_type": "markdown",
   "metadata": {
    "slideshow": {
     "slide_type": "fragment"
    }
   },
   "source": [
    "- In addition to performing arithmetic calculations, a computer is designed in such a way that  \n",
    "- we can write different programs (in a process called **programming** or **software development**)\n",
    "- for the computer to execute to perform different tasks."
   ]
  },
  {
   "cell_type": "markdown",
   "metadata": {
    "slideshow": {
     "slide_type": "slide"
    }
   },
   "source": [
    "### What is the architecture of a computer?"
   ]
  },
  {
   "cell_type": "markdown",
   "metadata": {
    "slideshow": {
     "slide_type": "fragment"
    }
   },
   "source": [
    "Almost all computers are based on [Von Neumann architecture](https://www.youtube.com/watch?v=SbqXqQ-2ixs), which consists of the following three main components:\n",
    "1.  Input/output device: read information into or out of the memory unit upon command from the CPU\n",
    "2.  Central Processing Unit (CPU)\n",
    "    -  Arithmetic and Logic Unit (ALU): performs arithmetics like a calculator (but for binary numbers)\n",
    "    -  Control Unit (CU): directs the operations of the processor in executing a program.\n",
    "3.  Main memory: stores both data and instructions"
   ]
  },
  {
   "cell_type": "markdown",
   "metadata": {},
   "source": [
    "<center><figure>\n",
    "<a title=\"computer\" href=\"http://4.bp.blogspot.com/-yMX_duVg_iI/UXBmIbD7stI/AAAAAAAAAZI/Dbkq7tveFOM/s1600/IAS+computer.png\"><img width=\"600\" alt=\"Computer architecture\" src=\"http://4.bp.blogspot.com/-yMX_duVg_iI/UXBmIbD7stI/AAAAAAAAAZI/Dbkq7tveFOM/s1600/IAS+computer.png\"></a>\n",
    "  <figcaption>Computer architecture.</figcaption>\n",
    "</figure>\n",
    "</center>"
   ]
  },
  {
   "cell_type": "markdown",
   "metadata": {
    "slideshow": {
     "slide_type": "subslide"
    }
   },
   "source": [
    "#### Input and output devices"
   ]
  },
  {
   "cell_type": "markdown",
   "metadata": {
    "slideshow": {
     "slide_type": "-"
    }
   },
   "source": [
    "<center><figure>\n",
    "<a title=\"Unsplash\" href=\"https://unsplash.com/photos/gyRa86ExKTw\"><img width=\"600\" alt=\"Computer peripherals\" src=\"https://images.unsplash.com/flagged/photo-1551954810-43cd6aef5b1f?ixlib=rb-1.2.1&ixid=eyJhcHBfaWQiOjEyMDd9&auto=format&fit=crop&w=3580&q=80\"></a>\n",
    "  <figcaption>Computer Peripherals.</figcaption>\n",
    "</figure>\n",
    "</center>"
   ]
  },
  {
   "cell_type": "markdown",
   "metadata": {
    "slideshow": {
     "slide_type": "fragment"
    }
   },
   "source": [
    "Input and output devices connected to a computer are called *peripherals*.  \n",
    "They allow users to interact with the computer in different ways."
   ]
  },
  {
   "cell_type": "markdown",
   "metadata": {
    "slideshow": {
     "slide_type": "subslide"
    }
   },
   "source": [
    "**Exercise** Some examples of output devices are:\n",
    "- Monitor\n",
    "- Speaker\n",
    "\n",
    "Can you give an awesome examples?"
   ]
  },
  {
   "cell_type": "markdown",
   "metadata": {
    "slideshow": {
     "slide_type": "subslide"
    }
   },
   "source": [
    "**Exercise** Some examples of input devices are:\n",
    "- Keyboard\n",
    "- Mouse\n",
    "\n",
    "Can you give an awesome example?"
   ]
  },
  {
   "cell_type": "markdown",
   "metadata": {
    "slideshow": {
     "slide_type": "subslide"
    }
   },
   "source": [
    "**Exercise** Many devices are both input and output device. Can you give at least 3 examples?"
   ]
  },
  {
   "cell_type": "markdown",
   "metadata": {
    "nbgrader": {
     "grade": true,
     "grade_id": "cell-e1982fbce01506b3",
     "locked": false,
     "points": 0,
     "schema_version": 3,
     "solution": true,
     "task": false
    },
    "slideshow": {
     "slide_type": "-"
    }
   },
   "source": [
    "- hard disk\n",
    "- CD/DVD Rom (writable)\n",
    "- touch screen"
   ]
  },
  {
   "cell_type": "markdown",
   "metadata": {
    "slideshow": {
     "slide_type": "subslide"
    }
   },
   "source": [
    "<center><figure>\n",
    "<a title=\"Unsplash\" href=\"https://commons.wikimedia.org/wiki/File:Input_output_devices.jpg\"><img width=\"600\" alt=\"Input and output devices\" src=\"https://upload.wikimedia.org/wikipedia/commons/7/73/Input_output_devices.jpg\"></a>\n",
    "  <figcaption>Input and output devices.</figcaption>\n",
    "</figure>\n",
    "</center>"
   ]
  },
  {
   "cell_type": "markdown",
   "metadata": {
    "slideshow": {
     "slide_type": "slide"
    }
   },
   "source": [
    "#### Central Processing Unit"
   ]
  },
  {
   "cell_type": "markdown",
   "metadata": {
    "slideshow": {
     "slide_type": "-"
    }
   },
   "source": [
    "<center><figure>\n",
    "<a title=\"Unsplash\" href=\"https://unsplash.com/photos/CKpBhTXvLis\"><img width=\"600\" alt=\"CPU\" src=\"https://images.unsplash.com/photo-1555617981-dac3880eac6e?ixlib=rb-1.2.1&ixid=eyJhcHBfaWQiOjEyMDd9&auto=format&fit=crop&w=1950&q=80\"></a>\n",
    "  <figcaption>An Intel CPU.</figcaption>\n",
    "</figure>\n",
    "</center>"
   ]
  },
  {
   "cell_type": "markdown",
   "metadata": {
    "slideshow": {
     "slide_type": "fragment"
    }
   },
   "source": [
    "The brain of a computer is its processor unit, or the [**C**entral **P**rocesisng **U**nit (CPU)](https://en.wikipedia.org/wiki/Central_processing_unit).  \n",
    "It is located on the [*motherboard*](https://en.wikipedia.org/wiki/Motherboard) and connects to different peripherals using different [*connectors*](https://en.wikipedia.org/wiki/Category:Computer_connectors)."
   ]
  },
  {
   "cell_type": "markdown",
   "metadata": {
    "slideshow": {
     "slide_type": "fragment"
    }
   },
   "source": [
    "Two important components in the CPU are:\n",
    "-  **A**rithmetic and **L**ogic **U**nit (**ALU**): Performs arithmetics like a calculator (but for binary numbers)\n",
    "-  **C**ontrol **U**nit (**CU**): Directs the operations of the processor in executing a program."
   ]
  },
  {
   "cell_type": "markdown",
   "metadata": {
    "slideshow": {
     "slide_type": "subslide"
    }
   },
   "source": [
    "Let's run a CPU Simulator below from a [GitHub project](https://github.com/pddring/cpu-simulator).\n",
    "- Note that all values are zeros in the RAM (**R**andom **A**cess **M**emory) initially.\n",
    "- Under Settings, click `Examples`$\\to $`Add two numbers`. Observe that the values in the RAM have changed.\n",
    "- Click `Run` at the bottom right-hand corner."
   ]
  },
  {
   "cell_type": "code",
   "execution_count": 1,
   "metadata": {
    "ExecuteTime": {
     "end_time": "2020-08-23T03:52:31.770264Z",
     "start_time": "2020-08-23T03:52:31.753581Z"
    },
    "slideshow": {
     "slide_type": "-"
    }
   },
   "outputs": [
    {
     "data": {
      "text/html": [
       "<iframe src=\"https://tools.withcode.uk/cpu\" width=\"800\" height=\"800\">\n",
       "</iframe>\n"
      ],
      "text/plain": [
       "<IPython.core.display.HTML object>"
      ]
     },
     "metadata": {},
     "output_type": "display_data"
    }
   ],
   "source": [
    "%%html\n",
    "<iframe src=\"https://tools.withcode.uk/cpu\" width=\"800\" height=\"800\">\n",
    "</iframe>"
   ]
  },
  {
   "cell_type": "markdown",
   "metadata": {
    "slideshow": {
     "slide_type": "slide"
    }
   },
   "source": [
    "#### Memories"
   ]
  },
  {
   "cell_type": "markdown",
   "metadata": {
    "slideshow": {
     "slide_type": "subslide"
    }
   },
   "source": [
    "**Computer memory** is the storage space in the computer, where data is to be processed and instructions required for processing are stored.\n",
    "\n",
    "Computer memory is of two basic types:\n",
    "- Random Access Memory (RAM): \n",
    "    - It is also called the main memory or the primary memory.\n",
    "    - The programs and data that the CPU requires during the execution of a program are stored in this memory.\n",
    "    - It is a volatile memory as the data lost when the power is turned off.\n",
    "    - RAM is further classified into two types- SRAM and DRAM.\n",
    "- Read Only Memory (ROM)\n",
    "    - Stores crucial information essential to operate the system, like the program essential to boot the computer.\n",
    "    - It is not volatile.\n",
    "    - Always retains its data.\n",
    "    - ROM is further classified into three types- PROM, EPROM, and EEPROM. "
   ]
  },
  {
   "cell_type": "markdown",
   "metadata": {
    "slideshow": {
     "slide_type": "fragment"
    }
   },
   "source": [
    "<center><figure>\n",
    "<a title=\"memory\" href=\"https://media.geeksforgeeks.org/wp-content/uploads/memory.png\"><img width=\"600\" alt=\"Memory\" src=\"https://media.geeksforgeeks.org/wp-content/uploads/memory.png\"></a>\n",
    "  <figcaption></figcaption>\n",
    "</figure>\n",
    "</center>"
   ]
  },
  {
   "cell_type": "markdown",
   "metadata": {
    "slideshow": {
     "slide_type": "slide"
    }
   },
   "source": [
    "## What is Programming?"
   ]
  },
  {
   "cell_type": "markdown",
   "metadata": {
    "slideshow": {
     "slide_type": "subslide"
    }
   },
   "source": [
    "**What is programming?**\n",
    "\n",
    "Programming is a way to “instruct the computer to perform various tasks”.\n",
    "- “Instruct the computer”: this basically means that you provide the computer a set of instructions that are written in a language that the computer can understand. The instructions could be of various types. For example:\n",
    "    - Adding 2 numbers,\n",
    "    - Rounding off a number, etc.\n",
    "    \n",
    "    \n",
    "\n",
    "- “Perform various tasks”: the tasks could be simple ones like we discussed above (adding 2 numbers, rounding off a number) or complex ones which may involve a sequence of multiple instructions. For example:\n",
    "    - Calculating simple interest, given principal, rate and time.\n",
    "    - Calculating the average return on a stock over the last 5 years.\n",
    "\n",
    "Hence, in summary, Programming is a way to tell computers to do a specific task.\n",
    "\n",
    "**What is programming language?**\n",
    "\n",
    "Just like we humans can understand a few languages (English, Spanish, Mandarin, French, etc.), computers understand instructions that are written in a specific syntactical form called a programming language.\n",
    "\n",
    "\n"
   ]
  },
  {
   "cell_type": "markdown",
   "metadata": {
    "slideshow": {
     "slide_type": "subslide"
    }
   },
   "source": [
    "### How code and data is stored in computer?\n",
    "All computer data is represented using binary, a number system that uses 0s and 1s.\n",
    "<br />\n",
    "<br />\n",
    "<center><figure>\n",
    "<a title=\"binary\" href=\"https://bam.files.bbci.co.uk/bam/live/content/zdvjtfr/large\"><img width=\"400\" alt=\"Binary\" src=\"https://bam.files.bbci.co.uk/bam/live/content/zdvjtfr/large\"></a>\n",
    "  <figcaption>Binary representation.</figcaption>\n",
    "</figure>\n",
    "</center>"
   ]
  },
  {
   "cell_type": "markdown",
   "metadata": {
    "slideshow": {
     "slide_type": "subslide"
    }
   },
   "source": [
    "### Why computer uses binary representation?"
   ]
  },
  {
   "cell_type": "code",
   "execution_count": 2,
   "metadata": {
    "ExecuteTime": {
     "end_time": "2020-11-27T05:14:52.762257Z",
     "start_time": "2020-11-27T05:14:52.758268Z"
    },
    "slideshow": {
     "slide_type": "fragment"
    }
   },
   "outputs": [
    {
     "data": {
      "text/html": [
       "<iframe width=\"800\" height=\"450\" src=\"https://www.youtube.com/embed/Xpk67YzOn5w\" allowfullscreen></iframe>\n"
      ],
      "text/plain": [
       "<IPython.core.display.HTML object>"
      ]
     },
     "metadata": {},
     "output_type": "display_data"
    }
   ],
   "source": [
    "%%html\n",
    "<iframe width=\"800\" height=\"450\" src=\"https://www.youtube.com/embed/Xpk67YzOn5w\" allowfullscreen></iframe>"
   ]
  },
  {
   "cell_type": "markdown",
   "metadata": {
    "ExecuteTime": {
     "end_time": "2020-08-23T04:12:46.028621Z",
     "start_time": "2020-08-23T04:12:46.019721Z"
    },
    "slideshow": {
     "slide_type": "fragment"
    }
   },
   "source": [
    "**Exercise** The first electronic computer, called [Electronic Numerical Integrator and Computer (ENIAC)](https://en.wikipedia.org/wiki/ENIAC), was programmed using binary circuitries, namely *switches* that can be either `On` or `Off`. \n",
    "\n",
    "<center>\n",
    "    <figure>\n",
    "<a title=\"United States Army / Public domain\" href=\"https://commons.wikimedia.org/wiki/File:Two_women_operating_ENIAC.gif\"><img width=\"512\" alt=\"Two women operating ENIAC\" src=\"https://upload.wikimedia.org/wikipedia/commons/8/8c/Two_women_operating_ENIAC_%28full_resolution%29.jpg\"></a>\n",
    "        <figcaption>Programmers controlling the switches of ENIAC.</figcaption>\n",
    "    </figure>\n",
    "</center>\n",
    "\n",
    "However, it did not represent values efficiently in binary. 10 binary digits (bits) was used to represent a decimal number 0 to 9.  \n",
    "Indeed, how many decimals can be represented by 10 bits?"
   ]
  },
  {
   "cell_type": "code",
   "execution_count": 8,
   "metadata": {
    "nbgrader": {
     "grade": true,
     "grade_id": "cell-1023083cd0aca779",
     "locked": false,
     "points": 0,
     "schema_version": 3,
     "solution": true,
     "task": false
    },
    "slideshow": {
     "slide_type": "-"
    }
   },
   "outputs": [
    {
     "data": {
      "text/plain": [
       "1024"
      ]
     },
     "execution_count": 8,
     "metadata": {},
     "output_type": "execute_result"
    }
   ],
   "source": [
    "2 ** 10 # because there are that many binary sequences of length 10."
   ]
  },
  {
   "cell_type": "markdown",
   "metadata": {
    "slideshow": {
     "slide_type": "fragment"
    }
   },
   "source": [
    "As mentioned in the video, there are *International Standards* for representing characters:\n",
    "- [ASCII](https://en.wikipedia.org/wiki/ASCII) (American Standard Code for Information Interchange) maps English letters and some other symbols to 8-bits (8 binary digits, also called a byte). E.g., `A` is `01000001`.\n",
    "\n",
    "<br />\n",
    "<br />\n",
    "<center><figure>\n",
    "<a title=\"ASCII\" href=\"https://commons.wikimedia.org/wiki/File:ASCII-Table.png\"><img width=\"400\" alt=\"ASCII Table\" src=\"https://upload.wikimedia.org/wikipedia/commons/b/b3/ASCII-Table.png\"></a>\n",
    "  <figcaption>ASCII Table.</figcaption>\n",
    "</figure>\n",
    "</center>\n",
    "\n",
    "\n",
    "\n",
    "- [Unicode](https://en.wikipedia.org/wiki/Unicode) can also represent characters in different languages such as Chinese, Japanese...etc. \n",
    "\n",
    "<br />\n",
    "<br />\n",
    "<center><figure>\n",
    "<a title=\"Unicode\" href=\"https://upload.wikimedia.org/wikipedia/commons/0/00/Unicode.jpg\"><img width=\"400\" alt=\"Unicode\" src=\"https://upload.wikimedia.org/wikipedia/commons/0/00/Unicode.jpg\"></a>\n",
    "  <figcaption>Unicode.</figcaption>\n",
    "</figure>\n",
    "</center>\n",
    "\n"
   ]
  },
  {
   "cell_type": "markdown",
   "metadata": {
    "slideshow": {
     "slide_type": "fragment"
    }
   },
   "source": [
    "There are additional standards to represent numbers other than non-negative integers:\n",
    "- [2's complement format](https://en.wikipedia.org/wiki/Two%27s_complement) for negative integers (e.g. -123)\n",
    "- [IEEE floating point format](https://en.wikipedia.org/wiki/IEEE_754) for floating point numbers such as $1.23 x 10^{-4}$."
   ]
  },
  {
   "cell_type": "markdown",
   "metadata": {
    "slideshow": {
     "slide_type": "subslide"
    }
   },
   "source": [
    "**Why define different standards?**"
   ]
  },
  {
   "cell_type": "markdown",
   "metadata": {
    "slideshow": {
     "slide_type": "fragment"
    }
   },
   "source": [
    "- Different standards have different benefits. ASCII requires less storage for a character, but it represents less characters.\n",
    "- Although digits are also represented in ASCII, the 2's complement format is designed for arithmetic operations."
   ]
  },
  {
   "cell_type": "markdown",
   "metadata": {
    "slideshow": {
     "slide_type": "slide"
    }
   },
   "source": [
    "## Different generations of programming languages"
   ]
  },
  {
   "cell_type": "markdown",
   "metadata": {
    "slideshow": {
     "slide_type": "fragment"
    }
   },
   "source": [
    "**1st Generation Programming Language** is Machine language.\n",
    "\n",
    "<br />\n",
    "<br />\n",
    "<center><figure>\n",
    "<a title=\"Machine language\" href=\"https://i.stack.imgur.com/686wZ.png\"><img width=\"400\" alt=\"Machine language\" src=\"https://i.stack.imgur.com/686wZ.png\"></a>\n",
    "  <figcaption>Machine language.</figcaption>\n",
    "</figure>\n",
    "</center>"
   ]
  },
  {
   "cell_type": "markdown",
   "metadata": {
    "slideshow": {
     "slide_type": "fragment"
    }
   },
   "source": [
    "**Are we going to start with machine language?**\n",
    "\n",
    "Start with learning 2's complement and the binary codes for different instructions?"
   ]
  },
  {
   "cell_type": "markdown",
   "metadata": {
    "slideshow": {
     "slide_type": "fragment"
    }
   },
   "source": [
    "No. Programmers do not write machine codes directly because it is too hard to think in binary representations. "
   ]
  },
  {
   "cell_type": "markdown",
   "metadata": {
    "slideshow": {
     "slide_type": "fragment"
    }
   },
   "source": [
    "The **2nd Generation Programming Language** is Assembly language, where programmers write human-readable **mnemonics** such as **ADD**, **SUB**...,  "
   ]
  },
  {
   "cell_type": "markdown",
   "metadata": {
    "slideshow": {
     "slide_type": "fragment"
    }
   },
   "source": [
    "<center>\n",
    "    <figure>\n",
    "<a title=\"Swtpc6800 en:User:Swtpc6800 Michael Holley / Public domain\" href=\"https://commons.wikimedia.org/wiki/File:Motorola_6800_Assembly_Language.png\"><img width=\"600\" alt=\"Motorola 6800 Assembly Language\" src=\"https://upload.wikimedia.org/wikipedia/commons/f/f3/Motorola_6800_Assembly_Language.png\"></a>\n",
    "        <figcaption>\n",
    "            A Code written in an assembly language.\n",
    "        </figcaption>\n",
    "    </figure>\n",
    " </center>"
   ]
  },
  {
   "cell_type": "markdown",
   "metadata": {
    "slideshow": {
     "slide_type": "subslide"
    }
   },
   "source": [
    "**Are you going to learn an assembly language?**\n",
    "\n",
    "No, assembly language is still hard to use."
   ]
  },
  {
   "cell_type": "markdown",
   "metadata": {
    "slideshow": {
     "slide_type": "fragment"
    }
   },
   "source": [
    "Both machine language and assembly language are low-level languages which\n",
    "- are difficult to write for complicated tasks (requiring many lines of code), and\n",
    "- are platform-specific:\n",
    "    - the sets of instructions and their binary codes can be different for different [types of CPUs](https://en.wikipedia.org/wiki/Comparison_of_CPU_microarchitectures), and\n",
    "    - different operating systems use [different assembly languages/styles](https://en.wikipedia.org/wiki/X86_assembly_language)."
   ]
  },
  {
   "cell_type": "markdown",
   "metadata": {
    "slideshow": {
     "slide_type": "slide"
    }
   },
   "source": [
    "## High-level Language"
   ]
  },
  {
   "cell_type": "code",
   "execution_count": 3,
   "metadata": {
    "ExecuteTime": {
     "end_time": "2020-08-23T12:31:08.305383Z",
     "start_time": "2020-08-23T12:31:08.296945Z"
    },
    "slideshow": {
     "slide_type": "fragment"
    }
   },
   "outputs": [
    {
     "data": {
      "text/html": [
       "<iframe width=\"800\" height=\"450\" src=\"https://www.youtube.com/embed/QdVFvsCWXrA\" allowfullscreen></iframe>\n"
      ],
      "text/plain": [
       "<IPython.core.display.HTML object>"
      ]
     },
     "metadata": {},
     "output_type": "display_data"
    }
   ],
   "source": [
    "%%html\n",
    "<iframe width=\"800\" height=\"450\" src=\"https://www.youtube.com/embed/QdVFvsCWXrA\" allowfullscreen></iframe>"
   ]
  },
  {
   "cell_type": "markdown",
   "metadata": {
    "slideshow": {
     "slide_type": "subslide"
    }
   },
   "source": [
    "Programmer nowadays use human-readable language known as the **3rd generation language (3GL)** or **high-level language.**\n",
    "- Examples includes: C, C++, Java, JavaScript, Basic, Python, PHP, ..."
   ]
  },
  {
   "cell_type": "markdown",
   "metadata": {
    "slideshow": {
     "slide_type": "slide"
    }
   },
   "source": [
    "### What is a high-level language?"
   ]
  },
  {
   "cell_type": "markdown",
   "metadata": {
    "slideshow": {
     "slide_type": "fragment"
    }
   },
   "source": [
    "- A code written in high-level language gets converted automatically to a low-level machine code for the desired platform. \n",
    "- Hence, it *abstracts* away details that can be handled by the computer (low-level code) itself.\n",
    "    - For instance, a programmer needs not care where a value should be physically stored if the computer can find a free location automatically to store the value.\n",
    "<br />\n",
    "<br />\n",
    "<center><figure>\n",
    "<a title=\"Computer language\" href=\"https://i0.wp.com/www.informationq.com/wp-content/uploads/2016/06/Computer-Language-and-its-Types.jpg?resize=783%2C476\"><img width=\"400\" alt=\"Computer language\" src=\"https://i0.wp.com/www.informationq.com/wp-content/uploads/2016/06/Computer-Language-and-its-Types.jpg?resize=783%2C476\"></a>\n",
    "  <figcaption></figcaption>\n",
    "</figure>\n",
    "</center>\n"
   ]
  },
  {
   "cell_type": "markdown",
   "metadata": {
    "slideshow": {
     "slide_type": "fragment"
    }
   },
   "source": [
    "Different high-level languages can have different implementations of the conversion processes:\n",
    "- **Compilation** means converting a program well before executing of the program. E.g., C++ and Java programs are compiled.\n",
    "- **Interpretation** means converting a program on-the-fly during the execution of a program. E.g., JavaScript and Python programs are often interpreted.\n",
    "\n",
    "Roughly speaking, compiled programs run faster but interpreted programs are more flexible and can be modified at run time.  \n",
    "(The [truth](https://finematics.com/compiled-vs-interpreted-programming-languages/) is indeed more complicated than required for this course.)"
   ]
  },
  {
   "cell_type": "markdown",
   "metadata": {
    "slideshow": {
     "slide_type": "slide"
    }
   },
   "source": [
    "### What programming language will you learn?"
   ]
  },
  {
   "cell_type": "markdown",
   "metadata": {
    "slideshow": {
     "slide_type": "fragment"
    }
   },
   "source": [
    "You will learn to program using **Python**. The course covers:\n",
    "-  Basic topics including *values*, *variables*, *conditional*, *iterations*, *functions*, *composite data types*.\n",
    "-  Advanced topics that touch on functional and object-oriented programming.\n",
    "-  Engineering topics such as *Monte Carlo Simulation*, and *Linear Algebra*."
   ]
  },
  {
   "cell_type": "markdown",
   "metadata": {
    "slideshow": {
     "slide_type": "subslide"
    }
   },
   "source": [
    "**Why Python?**"
   ]
  },
  {
   "cell_type": "code",
   "execution_count": 4,
   "metadata": {
    "ExecuteTime": {
     "end_time": "2020-08-23T10:59:22.898373Z",
     "start_time": "2020-08-23T10:59:22.889998Z"
    },
    "slideshow": {
     "slide_type": "fragment"
    }
   },
   "outputs": [
    {
     "data": {
      "text/html": [
       "<iframe width=\"800\" height=\"450\" src=\"https://www.youtube.com/embed/Y8Tko2YC5hA?end=200\" allowfullscreen></iframe>\n"
      ],
      "text/plain": [
       "<IPython.core.display.HTML object>"
      ]
     },
     "metadata": {},
     "output_type": "display_data"
    }
   ],
   "source": [
    "%%html\n",
    "<iframe width=\"800\" height=\"450\" src=\"https://www.youtube.com/embed/Y8Tko2YC5hA?end=200\" allowfullscreen></iframe>"
   ]
  },
  {
   "cell_type": "markdown",
   "metadata": {
    "slideshow": {
     "slide_type": "fragment"
    }
   },
   "source": [
    "In summary:\n",
    "-   Python is *expressive* and can get things done with fewer lines of code as compared to other languages.\n",
    "-   Python is *popular*. It has an extensive set of libraries for Mathematics, graphics, AI, Machine Learning, etc.\n",
    "-   Python is *free and open source*, so you get to see everything and use it without restrictions.\n",
    "-   Python is *portable*. The same code runs in different platforms without modifications."
   ]
  },
  {
   "cell_type": "markdown",
   "metadata": {
    "slideshow": {
     "slide_type": "subslide"
    }
   },
   "source": [
    "**How does a Python program look like?**"
   ]
  },
  {
   "cell_type": "code",
   "execution_count": 5,
   "metadata": {
    "ExecuteTime": {
     "end_time": "2020-11-27T11:20:04.656873Z",
     "start_time": "2020-11-27T11:20:04.651575Z"
    },
    "slideshow": {
     "slide_type": "fragment"
    }
   },
   "outputs": [],
   "source": [
    "# for step-by-step execution using mytutor\n",
    "%reload_ext mytutor"
   ]
  },
  {
   "cell_type": "code",
   "execution_count": 6,
   "metadata": {
    "ExecuteTime": {
     "end_time": "2020-11-27T11:20:05.792756Z",
     "start_time": "2020-11-27T11:20:05.786145Z"
    },
    "slideshow": {
     "slide_type": "-"
    }
   },
   "outputs": [
    {
     "data": {
      "text/html": [
       "\n",
       "        <iframe\n",
       "            width=\"1100\"\n",
       "            height=\"400\"\n",
       "            src=\"https://e-quiz.cs.cityu.edu.hk/opt/cs1302visualize.html#mode=display&code=%23%20The%20program%20here%20reads%20the%20cohort%20and%20reports%20which%20year%20the%20user%20is%20in%0A%23%20Assumption%3A%20Input%20is%20integer%20no%20greater%20than%202020%0Aimport%20datetime%20%20%23%20load%20a%20library%20to%20tell%20the%20current%20year%0A%0Acohort%20%3D%20input%28%22In%20which%20year%20did%20you%20join%20CityU%3F%20%22%29%0Ayear%20%3D%20datetime.datetime.now%28%29.year%20-%20int%28cohort%29%20%2B%201%0Aprint%28%22So%20you%20are%20a%20year%22%2C%20year%2C%20%22student.%22%29%0A\"\n",
       "            frameborder=\"0\"\n",
       "            allowfullscreen\n",
       "            \n",
       "        ></iframe>\n",
       "        "
      ],
      "text/plain": [
       "<IPython.lib.display.IFrame at 0x7f153c6618b0>"
      ]
     },
     "metadata": {},
     "output_type": "display_data"
    }
   ],
   "source": [
    "%%mytutor -h 400\n",
    "# The program here reads the cohort and reports which year the user is in\n",
    "# Assumption: Input is integer no greater than 2020\n",
    "import datetime  # load a library to tell the current year\n",
    "\n",
    "cohort = input(\"In which year did you join CityU? \")\n",
    "year = datetime.datetime.now().year - int(cohort) + 1\n",
    "print(\"So you are a year\", year, \"student.\")"
   ]
  },
  {
   "cell_type": "markdown",
   "metadata": {
    "slideshow": {
     "slide_type": "fragment"
    }
   },
   "source": [
    "A Python program contains *statements* just like sentences in natural languages.  \n",
    "E.g., `cohort = input(\"In which year did you join CityU? \")` is a statement that gives some value a name called `cohort`."
   ]
  },
  {
   "cell_type": "markdown",
   "metadata": {
    "slideshow": {
     "slide_type": "fragment"
    }
   },
   "source": [
    "For the purpose of computations, a statement often contains *expressions* that evaluate to certain values.  \n",
    "E.g., `input(\"In which year did you join CityU? \")` is an expression with the value equal to what you input to the prompt.  \n",
    "That value is then given the name `cohort`."
   ]
  },
  {
   "cell_type": "markdown",
   "metadata": {
    "slideshow": {
     "slide_type": "fragment"
    }
   },
   "source": [
    "Expressions can be composed of:\n",
    "- *Functions* such as `input`, `now`, and `int`, etc., which are like math functions the return some values based on its arguments, if any.\n",
    "- *Literals* such as the string `\"In which year did you join CityU? \"` and the integer `1`. They are values you type out literally.\n",
    "- *Variables* such as `cohort` and `year`, which are meaningful names to values."
   ]
  },
  {
   "cell_type": "markdown",
   "metadata": {
    "slideshow": {
     "slide_type": "fragment"
    }
   },
   "source": [
    "To help others understand the code, there are also *comments* that start with `#`.  \n",
    "These are descriptions meant for human to read but not to be executed by the computer."
   ]
  },
  {
   "cell_type": "markdown",
   "metadata": {
    "slideshow": {
     "slide_type": "slide"
    }
   },
   "source": [
    "### what is the next generation language?"
   ]
  },
  {
   "cell_type": "markdown",
   "metadata": {
    "nbgrader": {
     "grade": true,
     "grade_id": "cell-205d445ede20461d",
     "locked": false,
     "points": 0,
     "schema_version": 3,
     "solution": true,
     "task": false
    },
    "slideshow": {
     "slide_type": "subslide"
    }
   },
   "source": [
    "Perhaps programming using natural languages. Write programs that people enjoy reading, like [literate programming](https://www.youtube.com/watch?v=bTkXg2LZIMQ).  \n",
    "Indeed, Jupyter notebook is arguably a step towards this direction. See [nbdev](https://github.com/fastai/nbdev)."
   ]
  },
  {
   "cell_type": "code",
   "execution_count": 7,
   "metadata": {
    "ExecuteTime": {
     "end_time": "2020-08-23T12:02:59.640220Z",
     "start_time": "2020-08-23T12:02:59.630355Z"
    },
    "slideshow": {
     "slide_type": "fragment"
    }
   },
   "outputs": [
    {
     "data": {
      "text/html": [
       "<iframe width=\"800\" height=\"450\" src=\"https://www.youtube.com/embed/bTkXg2LZIMQ\" allowfullscreen></iframe>\n"
      ],
      "text/plain": [
       "<IPython.core.display.HTML object>"
      ]
     },
     "metadata": {},
     "output_type": "display_data"
    }
   ],
   "source": [
    "%%html\n",
    "<iframe width=\"800\" height=\"450\" src=\"https://www.youtube.com/embed/bTkXg2LZIMQ\" allowfullscreen></iframe>"
   ]
  }
 ],
 "metadata": {
  "celltoolbar": "Slideshow",
  "kernelspec": {
   "display_name": "Python 3 (ipykernel)",
   "language": "python",
   "name": "python3"
  },
  "language_info": {
   "codemirror_mode": {
    "name": "ipython",
    "version": 3
   },
   "file_extension": ".py",
   "mimetype": "text/x-python",
   "name": "python",
   "nbconvert_exporter": "python",
   "pygments_lexer": "ipython3",
   "version": "3.8.12"
  },
  "latex_envs": {
   "LaTeX_envs_menu_present": true,
   "autoclose": false,
   "autocomplete": true,
   "bibliofile": "biblio.bib",
   "cite_by": "apalike",
   "current_citInitial": 1,
   "eqLabelWithNumbers": true,
   "eqNumInitial": 1,
   "hotkeys": {
    "equation": "Ctrl-E",
    "itemize": "Ctrl-I"
   },
   "labels_anchors": false,
   "latex_user_defs": false,
   "report_style_numbering": false,
   "user_envs_cfg": false
  },
  "rise": {
   "enable_chalkboard": true,
   "scroll": true,
   "theme": "white"
  },
  "toc": {
   "base_numbering": 1,
   "nav_menu": {
    "height": "195px",
    "width": "330px"
   },
   "number_sections": true,
   "sideBar": true,
   "skip_h1_title": true,
   "title_cell": "Table of Contents",
   "title_sidebar": "Contents",
   "toc_cell": false,
   "toc_position": {
    "height": "454.418px",
    "left": "1533px",
    "top": "110.284px",
    "width": "435.327px"
   },
   "toc_section_display": true,
   "toc_window_display": false
  }
 },
 "nbformat": 4,
 "nbformat_minor": 4
}
