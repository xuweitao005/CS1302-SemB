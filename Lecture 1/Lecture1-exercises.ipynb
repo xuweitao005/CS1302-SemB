{
 "cells": [
  {
   "cell_type": "markdown",
   "id": "7ba88ccc",
   "metadata": {},
   "source": [
    "### Exercises"
   ]
  },
  {
   "cell_type": "markdown",
   "id": "0a52ff87",
   "metadata": {},
   "source": [
    "**Exercise 1**\n",
    "\n",
    "What is computer and programming? Explain in your own words."
   ]
  },
  {
   "cell_type": "markdown",
   "id": "db9fae66",
   "metadata": {},
   "source": [
    "Enter your answer here"
   ]
  },
  {
   "cell_type": "markdown",
   "id": "e2a92bc6",
   "metadata": {},
   "source": [
    "**Exercise 2**\n",
    "\n",
    "What is the Von Neumann architecture? Explain its components and corresponding functions."
   ]
  },
  {
   "cell_type": "markdown",
   "id": "972a17c4",
   "metadata": {},
   "source": [
    "Enter your answer here"
   ]
  },
  {
   "cell_type": "markdown",
   "id": "5f308844",
   "metadata": {},
   "source": [
    "**Exercise 3**\n",
    "\n",
    "What the first generation language, second generation language, and high-level language? Explain their advantages and disadvantages."
   ]
  },
  {
   "cell_type": "markdown",
   "id": "b2b17858",
   "metadata": {},
   "source": [
    "Enter your answer here"
   ]
  },
  {
   "cell_type": "markdown",
   "id": "e22f3746",
   "metadata": {},
   "source": [
    "**Exercise 4**\n",
    "\n",
    "What are the advantages of Python?"
   ]
  },
  {
   "cell_type": "markdown",
   "id": "c746373f",
   "metadata": {},
   "source": [
    "Enter your answer here"
   ]
  },
  {
   "cell_type": "markdown",
   "id": "1d538588",
   "metadata": {},
   "source": [
    "**Exercise 5**\n",
    "\n",
    "What do you think is the next generation programming language? (Open question)"
   ]
  },
  {
   "cell_type": "markdown",
   "id": "67689d70",
   "metadata": {},
   "source": [
    "Enter your answer here"
   ]
  },
  {
   "cell_type": "code",
   "execution_count": null,
   "id": "baebd2b1",
   "metadata": {},
   "outputs": [],
   "source": []
  }
 ],
 "metadata": {
  "kernelspec": {
   "display_name": "Python 3 (ipykernel)",
   "language": "python",
   "name": "python3"
  },
  "language_info": {
   "codemirror_mode": {
    "name": "ipython",
    "version": 3
   },
   "file_extension": ".py",
   "mimetype": "text/x-python",
   "name": "python",
   "nbconvert_exporter": "python",
   "pygments_lexer": "ipython3",
   "version": "3.8.12"
  }
 },
 "nbformat": 4,
 "nbformat_minor": 5
}
