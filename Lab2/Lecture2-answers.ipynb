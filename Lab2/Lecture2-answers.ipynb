{
 "cells": [
  {
   "cell_type": "markdown",
   "id": "73cfe0c7",
   "metadata": {},
   "source": [
    "## Exercises"
   ]
  },
  {
   "cell_type": "markdown",
   "id": "21a30f0a",
   "metadata": {},
   "source": [
    "**Exercise 1** \n",
    "\n",
    "The following code is used to receive user's two inputs and calculate their summation, please check if the code is correct or not."
   ]
  },
  {
   "cell_type": "code",
   "execution_count": 1,
   "id": "9cfb4a1d",
   "metadata": {},
   "outputs": [
    {
     "name": "stdout",
     "output_type": "stream",
     "text": [
      "Please enter an integer5\n",
      "Please enter an integer8\n",
      "58\n"
     ]
    }
   ],
   "source": [
    "x = input('Please enter an integer')\n",
    "y = input('Please enter an integer')\n",
    "\n",
    "z = x + y\n",
    "\n",
    "print(z)"
   ]
  },
  {
   "cell_type": "markdown",
   "id": "42673b7f",
   "metadata": {},
   "source": [
    "The code is wrong because `input()` function returns string but not integer or floating point number. Therefore, the code cannot calculate the sum of x and y, but concatenate two strings together. The correct code is as follows."
   ]
  },
  {
   "cell_type": "code",
   "execution_count": 2,
   "id": "d1767ab5",
   "metadata": {},
   "outputs": [
    {
     "name": "stdout",
     "output_type": "stream",
     "text": [
      "Please enter an integer5\n",
      "Please enter an integer8\n",
      "13\n"
     ]
    }
   ],
   "source": [
    "x = int(input('Please enter an integer'))\n",
    "y = int(input('Please enter an integer'))\n",
    "\n",
    "z = x + y\n",
    "\n",
    "print(z)"
   ]
  },
  {
   "cell_type": "markdown",
   "id": "d9352aa9",
   "metadata": {},
   "source": [
    "**Exercise 2**\n",
    "\n",
    "The following code is used to receive user's two inputs and then check if they are equal to each other, please check if the code is correct or not."
   ]
  },
  {
   "cell_type": "code",
   "execution_count": null,
   "id": "b447410e",
   "metadata": {},
   "outputs": [],
   "source": [
    "x = int(input('Please enter an integer'))\n",
    "y = int(input('Please enter an integer'))\n",
    " \n",
    "print(x = y)"
   ]
  },
  {
   "cell_type": "markdown",
   "id": "7f8f87da",
   "metadata": {},
   "source": [
    "The code is wrong because `=` is assignment operator. If we want to compare two integers, we need to use `==`. So the correct code is as follows."
   ]
  },
  {
   "cell_type": "code",
   "execution_count": 4,
   "id": "761ebf64",
   "metadata": {},
   "outputs": [
    {
     "name": "stdout",
     "output_type": "stream",
     "text": [
      "Please enter an integer8\n",
      "Please enter an integer6\n",
      "False\n"
     ]
    }
   ],
   "source": [
    "x = int(input('Please enter an integer'))\n",
    "y = int(input('Please enter an integer'))\n",
    " \n",
    "print(x == y)"
   ]
  },
  {
   "cell_type": "markdown",
   "id": "414b0a01",
   "metadata": {},
   "source": [
    "**Exercise 3** \n",
    "\n",
    "Is the following statement correct?\n",
    "- The `print()` function simply prints a string on the screen but doesn't return any value"
   ]
  },
  {
   "cell_type": "markdown",
   "id": "7aaa5578",
   "metadata": {},
   "source": [
    "Wrong.`print()` function returns ``None``."
   ]
  },
  {
   "cell_type": "markdown",
   "id": "99cf7a5b",
   "metadata": {},
   "source": [
    "**Exercise 4**\n",
    "\n",
    "What is the difference between `/` and `//`?"
   ]
  },
  {
   "cell_type": "markdown",
   "id": "5b78e065",
   "metadata": {},
   "source": [
    "- `/` is division, but `//` is integer division. \n",
    "-  `/` returns a floating point number, but `//` return an integer.\n",
    "\n",
    "Run the following code to see the difference."
   ]
  },
  {
   "cell_type": "code",
   "execution_count": 7,
   "id": "bba33b41",
   "metadata": {},
   "outputs": [
    {
     "name": "stdout",
     "output_type": "stream",
     "text": [
      "4.0\n",
      "4\n",
      "3.3333333333333335\n",
      "3\n"
     ]
    }
   ],
   "source": [
    "x = 20\n",
    "y = 5\n",
    "z1 = x/y\n",
    "z2 = x//y\n",
    "print(z1)\n",
    "print(z2)\n",
    "\n",
    "x = 20\n",
    "y = 6\n",
    "z1 = x/y\n",
    "z2 = x//y\n",
    "print(z1)\n",
    "print(z2)"
   ]
  },
  {
   "cell_type": "markdown",
   "id": "5e9ace97",
   "metadata": {},
   "source": [
    "**Exercise 5**\n",
    "\n",
    "Can we create an expression using (augmented) assignment operators? Try running the code to see the effect."
   ]
  },
  {
   "cell_type": "code",
   "execution_count": 2,
   "id": "9292e385",
   "metadata": {},
   "outputs": [
    {
     "ename": "SyntaxError",
     "evalue": "invalid syntax (717327784.py, line 1)",
     "output_type": "error",
     "traceback": [
      "\u001b[0;36m  File \u001b[0;32m\"/tmp/ipykernel_343/717327784.py\"\u001b[0;36m, line \u001b[0;32m1\u001b[0m\n\u001b[0;31m    3*(x = 15)\u001b[0m\n\u001b[0m         ^\u001b[0m\n\u001b[0;31mSyntaxError\u001b[0m\u001b[0;31m:\u001b[0m invalid syntax\n"
     ]
    }
   ],
   "source": [
    "3*(x = 15)"
   ]
  },
  {
   "cell_type": "markdown",
   "id": "695c2f1f",
   "metadata": {},
   "source": [
    "No. `x = 15` is a statement but not an expression. So `x = 15` doesn't return any value and hence cannot be used in an expression. The correct code is as follows."
   ]
  },
  {
   "cell_type": "code",
   "execution_count": 8,
   "id": "f0e89a9f",
   "metadata": {},
   "outputs": [
    {
     "data": {
      "text/plain": [
       "45"
      ]
     },
     "execution_count": 8,
     "metadata": {},
     "output_type": "execute_result"
    }
   ],
   "source": [
    "x = 15\n",
    "3*x"
   ]
  },
  {
   "cell_type": "code",
   "execution_count": null,
   "id": "43e42ba4",
   "metadata": {},
   "outputs": [],
   "source": [
    "or, we can use the operator `:=`"
   ]
  },
  {
   "cell_type": "code",
   "execution_count": 9,
   "id": "8737f19e",
   "metadata": {},
   "outputs": [
    {
     "data": {
      "text/plain": [
       "45"
      ]
     },
     "execution_count": 9,
     "metadata": {},
     "output_type": "execute_result"
    }
   ],
   "source": [
    "3*(x :=15)"
   ]
  },
  {
   "cell_type": "markdown",
   "id": "83c75948",
   "metadata": {},
   "source": [
    "**Exercise 6** \n",
    "\n",
    "Play with the following widget to understand the precedence and associativity of different operators.  \n",
    "In particular, explain whether the expression `-10 ** 2*3` gives $(-10)^{2\\times 3}= 10^6 = 1000000$."
   ]
  },
  {
   "cell_type": "code",
   "execution_count": 3,
   "id": "567d3475",
   "metadata": {},
   "outputs": [
    {
     "ename": "NameError",
     "evalue": "name 'interact' is not defined",
     "output_type": "error",
     "traceback": [
      "\u001b[0;31m---------------------------------------------------------------------------\u001b[0m",
      "\u001b[0;31mNameError\u001b[0m                                 Traceback (most recent call last)",
      "\u001b[0;32m/tmp/ipykernel_343/1101420556.py\u001b[0m in \u001b[0;36m<module>\u001b[0;34m\u001b[0m\n\u001b[1;32m      2\u001b[0m \u001b[0;34m\u001b[0m\u001b[0m\n\u001b[1;32m      3\u001b[0m \u001b[0;34m\u001b[0m\u001b[0m\n\u001b[0;32m----> 4\u001b[0;31m @interact(\n\u001b[0m\u001b[1;32m      5\u001b[0m     \u001b[0moperator1\u001b[0m\u001b[0;34m=\u001b[0m\u001b[0;34m{\u001b[0m\u001b[0;34m\"None\"\u001b[0m\u001b[0;34m:\u001b[0m \u001b[0;34m\"\"\u001b[0m\u001b[0;34m,\u001b[0m \u001b[0;34m\"unary -\"\u001b[0m\u001b[0;34m:\u001b[0m \u001b[0;34m\"-\"\u001b[0m\u001b[0;34m}\u001b[0m\u001b[0;34m,\u001b[0m\u001b[0;34m\u001b[0m\u001b[0;34m\u001b[0m\u001b[0m\n\u001b[1;32m      6\u001b[0m     \u001b[0moperand1\u001b[0m\u001b[0;34m=\u001b[0m\u001b[0mfixed\u001b[0m\u001b[0;34m(\u001b[0m\u001b[0;34mr\"10\"\u001b[0m\u001b[0;34m)\u001b[0m\u001b[0;34m,\u001b[0m\u001b[0;34m\u001b[0m\u001b[0;34m\u001b[0m\u001b[0m\n",
      "\u001b[0;31mNameError\u001b[0m: name 'interact' is not defined"
     ]
    }
   ],
   "source": [
    "from ipywidgets import fixed\n",
    "\n",
    "\n",
    "@interact(\n",
    "    operator1={\"None\": \"\", \"unary -\": \"-\"},\n",
    "    operand1=fixed(r\"10\"),\n",
    "    operator2=binary_operators,\n",
    "    operand2=fixed(r\"2\"),\n",
    "    operator3=binary_operators,\n",
    "    operand3=fixed(r\"3\"),\n",
    ")\n",
    "def three_operators(operator1, operand1, operator2, operand2, operator3, operand3):\n",
    "    expression = f\"{operator1}{operand1}{operator2}{operand2}{operator3}{operand3}\"\n",
    "    value = eval(expression)\n",
    "    print(\n",
    "        f\"\"\"{'Expression:':>11} {expression}\\n{'Value:':>11} {value}\\n{'Type:':>11} {type(value)}\"\"\"\n",
    "    )"
   ]
  },
  {
   "cell_type": "code",
   "execution_count": 10,
   "id": "e0df8629",
   "metadata": {},
   "outputs": [
    {
     "data": {
      "text/plain": [
       "-300"
      ]
     },
     "execution_count": 10,
     "metadata": {},
     "output_type": "execute_result"
    }
   ],
   "source": [
    "-10 ** 2*3 #does this code return 1000000? why?"
   ]
  },
  {
   "cell_type": "markdown",
   "id": "4ce25901",
   "metadata": {},
   "source": [
    "To avoid confusion in the order of operations, we should follow the [style guide](https://www.python.org/dev/peps/pep-0008/#other-recommendations) when writing expression.  \n",
    "What is the proper way to write `-10 ** 2*3`? "
   ]
  },
  {
   "cell_type": "code",
   "execution_count": 12,
   "id": "653fcc1a",
   "metadata": {},
   "outputs": [
    {
     "data": {
      "text/plain": [
       "1000000"
      ]
     },
     "execution_count": 12,
     "metadata": {},
     "output_type": "execute_result"
    }
   ],
   "source": [
    "(-10)**(2*3)"
   ]
  },
  {
   "cell_type": "markdown",
   "id": "660b4856",
   "metadata": {},
   "source": [
    "**Exercise 7**\n",
    "\n",
    "Can the code below calculate $y = \\frac{b}{2a}$"
   ]
  },
  {
   "cell_type": "code",
   "execution_count": 19,
   "id": "dddf0edd",
   "metadata": {},
   "outputs": [],
   "source": [
    "y = b/2*a"
   ]
  },
  {
   "cell_type": "markdown",
   "id": "5ac51a8b",
   "metadata": {},
   "source": [
    "No, the code will be evaluated as y = (b/2)a but not y = b/(2a). The correct code is as follows."
   ]
  },
  {
   "cell_type": "code",
   "execution_count": 21,
   "id": "34f29ede",
   "metadata": {},
   "outputs": [],
   "source": [
    "y = b/(2*a)"
   ]
  },
  {
   "cell_type": "markdown",
   "id": "de6b091a",
   "metadata": {},
   "source": [
    "**Exercise 8**  \n",
    "\n",
    "Practice on integer division and modulo\n",
    "\n",
    "Assume 12 oranges per box. We are to pack oranges into boxes"
   ]
  },
  {
   "cell_type": "code",
   "execution_count": 22,
   "id": "993b6d04",
   "metadata": {
    "ExecuteTime": {
     "end_time": "2021-01-24T13:29:55.059941Z",
     "start_time": "2021-01-24T13:29:49.738382Z"
    }
   },
   "outputs": [
    {
     "name": "stdout",
     "output_type": "stream",
     "text": [
      "How many oranges? 12\n",
      "There are 12 oranges, so we need 1 boxes, and there will be 0 left\n"
     ]
    }
   ],
   "source": [
    "n = int(input(\"How many oranges? \"))\n",
    "boxes = n//12\n",
    "remaining = n%12\n",
    "\n",
    "print(\"There are {} oranges, so we need {} boxes, and there will be {} left\".format(n, boxes, remaining))"
   ]
  },
  {
   "cell_type": "markdown",
   "id": "9c6dc64e",
   "metadata": {},
   "source": [
    "Now we have big boxes for 15 oranges, small boxes for 6 oranges.  \n",
    "How to pack them into big boxes, then small boxes?  How many remaining?\n"
   ]
  },
  {
   "cell_type": "code",
   "execution_count": 27,
   "id": "85632de9",
   "metadata": {
    "ExecuteTime": {
     "end_time": "2021-01-24T13:31:37.696995Z",
     "start_time": "2021-01-24T13:31:35.211406Z"
    }
   },
   "outputs": [
    {
     "name": "stdout",
     "output_type": "stream",
     "text": [
      "How many oranges? 25\n",
      "There are 10 oranges, so we need 1 bix boxes, 1 small boxes, and there will be 4 left\n"
     ]
    }
   ],
   "source": [
    "n = int(input(\"How many oranges? \"))\n",
    "big_boxes = n//15\n",
    "n = n%15\n",
    "sm_boxes = n//6\n",
    "remaining = n%6\n",
    "\n",
    "print(\"There are {} oranges, so we need {} bix boxes, {} small boxes, and there will be {} left\".format(n, big_boxes, sm_boxes, remaining))"
   ]
  },
  {
   "cell_type": "code",
   "execution_count": null,
   "id": "7d46707f",
   "metadata": {},
   "outputs": [],
   "source": []
  }
 ],
 "metadata": {
  "kernelspec": {
   "display_name": "Python 3 (ipykernel)",
   "language": "python",
   "name": "python3"
  },
  "language_info": {
   "codemirror_mode": {
    "name": "ipython",
    "version": 3
   },
   "file_extension": ".py",
   "mimetype": "text/x-python",
   "name": "python",
   "nbconvert_exporter": "python",
   "pygments_lexer": "ipython3",
   "version": "3.8.12"
  }
 },
 "nbformat": 4,
 "nbformat_minor": 5
}
